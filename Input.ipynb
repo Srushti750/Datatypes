{
 "cells": [
  {
   "cell_type": "code",
   "execution_count": 6,
   "metadata": {},
   "outputs": [
    {
     "name": "stdout",
     "output_type": "stream",
     "text": [
      "Enter the first number: 21\n",
      "Enter the second number: 2.1\n"
     ]
    }
   ],
   "source": [
    "num1= int(input(\"Enter the first number: \"))\n",
    "num2= float(input(\"Enter the second number: \"))"
   ]
  },
  {
   "cell_type": "code",
   "execution_count": 7,
   "metadata": {},
   "outputs": [
    {
     "name": "stdout",
     "output_type": "stream",
     "text": [
      "Addition:  21 + 23.1\n",
      "Substraction:  21 - 18.9\n",
      "Multiplication:  21 * 44.1\n",
      "Division:  21 / 10.0\n",
      "Reminder:  21 % 2.099999999999999\n",
      "Power:  21 ** 597.9440090519865\n"
     ]
    }
   ],
   "source": [
    "print(\"Addition: \", num1, \"+\", num1 + num2)\n",
    "print(\"Substraction: \", num1, \"-\", num1 - num2)\n",
    "print(\"Multiplication: \", num1, \"*\", num1 * num2)\n",
    "print(\"Division: \", num1, \"/\", num1 / num2)\n",
    "print(\"Reminder: \", num1, \"%\", num1 % num2)\n",
    "print(\"Power: \", num1, \"**\", num1 ** num2)"
   ]
  },
  {
   "cell_type": "code",
   "execution_count": null,
   "metadata": {},
   "outputs": [],
   "source": []
  }
 ],
 "metadata": {
  "kernelspec": {
   "display_name": "Python 3",
   "language": "python",
   "name": "python3"
  },
  "language_info": {
   "codemirror_mode": {
    "name": "ipython",
    "version": 3
   },
   "file_extension": ".py",
   "mimetype": "text/x-python",
   "name": "python",
   "nbconvert_exporter": "python",
   "pygments_lexer": "ipython3",
   "version": "3.8.5"
  }
 },
 "nbformat": 4,
 "nbformat_minor": 4
}
